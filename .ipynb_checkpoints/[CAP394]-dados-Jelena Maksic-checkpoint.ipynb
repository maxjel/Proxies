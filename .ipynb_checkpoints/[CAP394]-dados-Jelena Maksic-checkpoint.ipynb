{
 "cells": [
  {
   "cell_type": "markdown",
   "metadata": {},
   "source": [
    "## Jelena CAP394\n",
    "####                      *The objectives of my study\n",
    "####                      * The Data\n",
    "####                      * Exploratory Data Analysis\n",
    "####                      * ..."
   ]
  },
  {
   "cell_type": "markdown",
   "metadata": {},
   "source": [
    "### The objectives of my study"
   ]
  },
  {
   "cell_type": "markdown",
   "metadata": {},
   "source": [
    "Various paleoclimate studies confirmed that **Last Millennium** _(850 C.E -1850 C.E)_ is a period with important events and significant climate fluctuations such as the **Medieval Climate Anomaly(MCA)** and the **Little Ice Age(LIA)**.\n",
    "Emerging scientific literature continues to report more evidence for the occurrence of both the **MCA** and **LIA** in South America.  \n",
    "Therefore, it is crucial to examine climatic variability beyond the era of instrumental records through paleoclimate studies using **proxies** and modeling. \n",
    "Although, paleoclimate proxies may provide scarce, fragmented and local scale information, which limit the interpretation of past vegetational changes, they are unique evidences of past time and making **multiproxy compilation** could give us valuable insights. \n",
    "So my main task here is to look into several **speleothem** records from the South American and try to find signals or patterns\n",
    "they have in common. \n"
   ]
  },
  {
   "cell_type": "markdown",
   "metadata": {},
   "source": [
    "### The Data"
   ]
  },
  {
   "cell_type": "markdown",
   "metadata": {},
   "source": [
    "I have a set of 10 speleothem records all **CSV file format**. Each sheet corresponds to a cave in South America.\n",
    "They are different in time span as well as in temporal resolution. "
   ]
  },
  {
   "cell_type": "markdown",
   "metadata": {},
   "source": [
    "You can find data [here](https://github.com/maxjel/Proxies/blob/master/botuvera.csv) and [here](https://github.com/maxjel/Proxies/blob/master/quelcaya.csv)"
   ]
  },
  {
   "cell_type": "markdown",
   "metadata": {},
   "source": [
    "### Exploratory Data Analysis"
   ]
  },
  {
   "cell_type": "markdown",
   "metadata": {},
   "source": [
    "Let's take a look at Botuvera cave and Quelcaya cave data set. "
   ]
  },
  {
   "cell_type": "code",
   "execution_count": 8,
   "metadata": {},
   "outputs": [],
   "source": [
    "import pandas as pd\n",
    "pd.set_option('max_rows', 5)"
   ]
  },
  {
   "cell_type": "code",
   "execution_count": 9,
   "metadata": {},
   "outputs": [],
   "source": [
    "url = 'botuvera.csv'\n",
    "df1 = pd.read_csv(url,index_col=0,parse_dates=[0])"
   ]
  },
  {
   "cell_type": "code",
   "execution_count": 10,
   "metadata": {
    "scrolled": true
   },
   "outputs": [
    {
     "name": "stdout",
     "output_type": "stream",
     "text": [
      "<bound method NDFrame.head of          d18O1\n",
      "age1          \n",
      " 2009.5   35.1\n",
      " 2009.0   35.1\n",
      "...        ...\n",
      "-7107.7   50.9\n",
      "-7107.9   50.9\n",
      "\n",
      "[49788 rows x 1 columns]>\n"
     ]
    }
   ],
   "source": [
    "print (df1.head)"
   ]
  },
  {
   "cell_type": "code",
   "execution_count": 11,
   "metadata": {},
   "outputs": [],
   "source": [
    "url2 = 'quelcaya.csv'\n",
    "df2 = pd.read_csv(url2,index_col=0,parse_dates=[0])"
   ]
  },
  {
   "cell_type": "code",
   "execution_count": 12,
   "metadata": {},
   "outputs": [
    {
     "name": "stdout",
     "output_type": "stream",
     "text": [
      "<bound method NDFrame.head of       d18O1\n",
      "age1       \n",
      "2009 -18.59\n",
      "2008 -16.32\n",
      "...     ...\n",
      "227  -17.48\n",
      "226  -18.12\n",
      "\n",
      "[1784 rows x 1 columns]>\n"
     ]
    }
   ],
   "source": [
    "print (df2.head)"
   ]
  },
  {
   "cell_type": "code",
   "execution_count": 13,
   "metadata": {},
   "outputs": [
    {
     "data": {
      "text/plain": [
       "'C:\\\\Users\\\\Visitante\\\\cap394\\\\Proxies'"
      ]
     },
     "execution_count": 13,
     "metadata": {},
     "output_type": "execute_result"
    }
   ],
   "source": [
    "%pwd"
   ]
  },
  {
   "cell_type": "code",
   "execution_count": null,
   "metadata": {},
   "outputs": [],
   "source": [
    "\n",
    "\n",
    "\n",
    "\n",
    "\n",
    "\n",
    "\n"
   ]
  }
 ],
 "metadata": {
  "kernelspec": {
   "display_name": "Python 3",
   "language": "python",
   "name": "python3"
  },
  "language_info": {
   "codemirror_mode": {
    "name": "ipython",
    "version": 3
   },
   "file_extension": ".py",
   "mimetype": "text/x-python",
   "name": "python",
   "nbconvert_exporter": "python",
   "pygments_lexer": "ipython3",
   "version": "3.7.3"
  }
 },
 "nbformat": 4,
 "nbformat_minor": 2
}
