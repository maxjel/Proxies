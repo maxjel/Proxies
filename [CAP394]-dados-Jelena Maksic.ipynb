{
 "cells": [
  {
   "cell_type": "markdown",
   "metadata": {},
   "source": [
    "## Jelena CAP394\n",
    "####                     *The objectives of my study\n",
    "####                      *The Data\n",
    "####                      * Exploratory Data Analysis\n",
    "####                      * ..."
   ]
  },
  {
   "cell_type": "markdown",
   "metadata": {},
   "source": [
    "### The objectives of my study"
   ]
  },
  {
   "cell_type": "markdown",
   "metadata": {},
   "source": [
    "Various paleoclimate studies confirmed that Last Millennium (850 C.E -1850 C.E) is a period with important events and significant climate fluctuations such as the Medieval Climate Anomaly and the Little Ice Age. Emerging scientific literature continues to report more evidence for the occurrence of both the Medieval Warm Period and Little Ice Age in South America.  \n",
    "Therefore, it is crucial to examine climatic variability beyond the era of instrumental records through paleoclimate studies using proxies and modeling. My task is to reconstructing climate variability and vegetational changes during the past millennium using speleothem and tree-ring records from the South American monsoon region. \n",
    "\n",
    "However, studies that only use paleoclimate proxies may provide scarce, fragmented and local scale information, which limit the interpretation of past vegetational changes. "
   ]
  },
  {
   "cell_type": "markdown",
   "metadata": {},
   "source": [
    "### The Data"
   ]
  },
  {
   "cell_type": "markdown",
   "metadata": {},
   "source": [
    "I have a set of 10 speleothem records all CSV file format. Each file corresponds to a cave in South America.\n",
    "They are different in time span as well as in temporal resolution. "
   ]
  },
  {
   "cell_type": "code",
   "execution_count": null,
   "metadata": {},
   "outputs": [],
   "source": []
  }
 ],
 "metadata": {
  "kernelspec": {
   "display_name": "Python 3",
   "language": "python",
   "name": "python3"
  },
  "language_info": {
   "codemirror_mode": {
    "name": "ipython",
    "version": 3
   },
   "file_extension": ".py",
   "mimetype": "text/x-python",
   "name": "python",
   "nbconvert_exporter": "python",
   "pygments_lexer": "ipython3",
   "version": "3.7.3"
  }
 },
 "nbformat": 4,
 "nbformat_minor": 2
}
